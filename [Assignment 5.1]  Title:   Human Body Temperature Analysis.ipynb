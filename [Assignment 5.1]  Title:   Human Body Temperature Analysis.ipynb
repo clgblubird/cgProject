{
 "cells": [
  {
   "cell_type": "code",
   "execution_count": null,
   "metadata": {
    "collapsed": true
   },
   "outputs": [],
   "source": [
    "'''\n",
    "***********************************************************\n",
    "[Assignment 5.1]  Title:   Human Body Temperature Analysis\n",
    "*********************************************************** \n",
    "\n",
    "-------------------\n",
    "[1]  Introduction\n",
    "-------------------\n",
    "\n",
    "Human body temperature that is considered “normal” can be associated with the \n",
    "average temperature range found in humans. Individual body temperature depends \n",
    "upon a number of factors such as age, the activity level, health at time of \n",
    "measurement, gender, geography, time of day, the place in the body at which the \n",
    "measurement is made, and emotional state.\n",
    "\n",
    "From the questions posed in the assignment, it appears that the purpose \n",
    "is to analyze a population of human temperature data to do the following: \n",
    "\n",
    "1:  Verify the accuracy of the human population mean of 98.6 degrees F and associated population\n",
    "standard deviation using statistically sound assumptions and methods\n",
    "2:  Determine what temperature should we consider someone' temperature to be abnormal.\n",
    "3:  Is there a significant difference between males and females in normal temperature\n",
    "\n",
    "'''"
   ]
  },
  {
   "cell_type": "code",
   "execution_count": null,
   "metadata": {
    "collapsed": true
   },
   "outputs": [],
   "source": [
    "'''\n",
    "-------------------\n",
    "[2] Methods\n",
    "-------------------\n",
    "\n",
    "\n",
    "\n",
    "[2.1] Methods:  Data Collection\n",
    "\n",
    "For this analysis, I used the data preselected for this assignment in the \n",
    "file human_body_temperature.csv. This data was provided from a paper written \n",
    "that was supported by a dataset created by Dr. Levine and Wasserman of the \n",
    "American Medical Association. While it’s not clear how the data was collected, \n",
    "it would be interesting to learn more about how the researcher collected the \n",
    "data and what sampling method was used for the sample provided for this assignment. \n",
    "The file has 130 observations with three variables (temperature, gender and heart rate). See \n",
    "next few cells below\n",
    "'''"
   ]
  },
  {
   "cell_type": "code",
   "execution_count": 15,
   "metadata": {
    "collapsed": false,
    "deletable": true,
    "editable": true
   },
   "outputs": [],
   "source": [
    "import pandas as pd"
   ]
  },
  {
   "cell_type": "code",
   "execution_count": 16,
   "metadata": {
    "collapsed": true,
    "deletable": true,
    "editable": true
   },
   "outputs": [],
   "source": [
    "import numpy as np"
   ]
  },
  {
   "cell_type": "code",
   "execution_count": 17,
   "metadata": {
    "collapsed": true,
    "deletable": true,
    "editable": true
   },
   "outputs": [],
   "source": [
    "import matplotlib.pyplot as plt"
   ]
  },
  {
   "cell_type": "code",
   "execution_count": 18,
   "metadata": {
    "collapsed": true,
    "deletable": true,
    "editable": true
   },
   "outputs": [],
   "source": [
    "%matplotlib inline"
   ]
  },
  {
   "cell_type": "code",
   "execution_count": 19,
   "metadata": {
    "collapsed": false,
    "deletable": true,
    "editable": true
   },
   "outputs": [
    {
     "data": {
      "text/html": [
       "<div>\n",
       "<table border=\"1\" class=\"dataframe\">\n",
       "  <thead>\n",
       "    <tr style=\"text-align: right;\">\n",
       "      <th></th>\n",
       "      <th>temperature</th>\n",
       "      <th>gender</th>\n",
       "      <th>heart_rate</th>\n",
       "    </tr>\n",
       "  </thead>\n",
       "  <tbody>\n",
       "    <tr>\n",
       "      <th>0</th>\n",
       "      <td>99.3</td>\n",
       "      <td>F</td>\n",
       "      <td>68</td>\n",
       "    </tr>\n",
       "    <tr>\n",
       "      <th>1</th>\n",
       "      <td>98.4</td>\n",
       "      <td>F</td>\n",
       "      <td>81</td>\n",
       "    </tr>\n",
       "    <tr>\n",
       "      <th>2</th>\n",
       "      <td>97.8</td>\n",
       "      <td>M</td>\n",
       "      <td>73</td>\n",
       "    </tr>\n",
       "    <tr>\n",
       "      <th>3</th>\n",
       "      <td>99.2</td>\n",
       "      <td>F</td>\n",
       "      <td>66</td>\n",
       "    </tr>\n",
       "    <tr>\n",
       "      <th>4</th>\n",
       "      <td>98.0</td>\n",
       "      <td>F</td>\n",
       "      <td>73</td>\n",
       "    </tr>\n",
       "  </tbody>\n",
       "</table>\n",
       "</div>"
      ],
      "text/plain": [
       "   temperature gender  heart_rate\n",
       "0         99.3      F          68\n",
       "1         98.4      F          81\n",
       "2         97.8      M          73\n",
       "3         99.2      F          66\n",
       "4         98.0      F          73"
      ]
     },
     "execution_count": 19,
     "metadata": {},
     "output_type": "execute_result"
    }
   ],
   "source": [
    "cgdata=pd.read_csv(\"/home/x7/Desktop/human_body_temperature.csv\")\n",
    "cgdata.head()"
   ]
  },
  {
   "cell_type": "code",
   "execution_count": null,
   "metadata": {
    "collapsed": true
   },
   "outputs": [],
   "source": [
    "'''\n",
    "\n",
    "[2.2] Methods Continued:  Exploratory Analysis\n",
    "\n",
    "Exploratory analysis was performed by examining tables and plots of the \n",
    "observed data.  The questions posed in the assignment guided my decision \n",
    "on representations I thought would be best to write and graphically \n",
    "display my answers as follows\n",
    "\n",
    "Assignment Question 1]  Is the distribution of body temperatures normal?\n",
    "\n",
    "Answer 1:  \n",
    "\n",
    "The central limit theorem states: “given random and independent samples \n",
    "of N observations each, the distribution of sample means approaches \n",
    "normality as the size of N increases, regardless of the shape of the \n",
    "population distributoin”.  Per that definition and after running the \n",
    "following code with it's accompanying output, yes, the distribution of \n",
    "body temperatures appear to approach normality.\n",
    "\n",
    "Hence, this question can be best answered with comments regarding a frequency distribution\n",
    "(histogram).The following plot produced in Python provide summarization of \n",
    "the body temperature using the sample data. It appears that this relative frequency distribution \n",
    "(histogram) does appear to approach normality:\n",
    "\n",
    "'''"
   ]
  },
  {
   "cell_type": "code",
   "execution_count": 21,
   "metadata": {
    "collapsed": false,
    "deletable": true,
    "editable": true
   },
   "outputs": [
    {
     "data": {
      "image/png": "[encoded data removed]",
      "text/plain": [
       "<matplotlib.figure.Figure at 0x7f1e6faf5510>"
      ]
     },
     "metadata": {},
     "output_type": "display_data"
    }
   ],
   "source": [
    "temp_pattern = cgdata['temperature'].hist(bins=30)\n",
    "temp_pattern.set_title(\"Body Temperature Histogram\")\n",
    "temp_pattern.set_xlabel(\"Temperature\")\n",
    "plt.show()"
   ]
  },
  {
   "cell_type": "code",
   "execution_count": null,
   "metadata": {
    "collapsed": true
   },
   "outputs": [],
   "source": [
    "'''\n",
    "\n",
    "[2.2] Methods Continued:  Exploratory Analysis\n",
    "\n",
    "Assignment Question 2] Is the sample size large? Are the observations independent?\n",
    "\n",
    "Answer 2:  From the summary table below, the sample size can be \n",
    "considered “large” because the number of observations is greater than 30.  \n",
    "Additionally the observations are independent because temperature measurement \n",
    "between each subject does not depend on other subjects.\n",
    "\n",
    "'''"
   ]
  },
  {
   "cell_type": "code",
   "execution_count": 20,
   "metadata": {
    "collapsed": false,
    "deletable": true,
    "editable": true,
    "scrolled": false
   },
   "outputs": [
    {
     "data": {
      "text/html": [
       "<div>\n",
       "<table border=\"1\" class=\"dataframe\">\n",
       "  <thead>\n",
       "    <tr style=\"text-align: right;\">\n",
       "      <th></th>\n",
       "      <th>temperature</th>\n",
       "      <th>heart_rate</th>\n",
       "    </tr>\n",
       "  </thead>\n",
       "  <tbody>\n",
       "    <tr>\n",
       "      <th>count</th>\n",
       "      <td>130.000000</td>\n",
       "      <td>130.000000</td>\n",
       "    </tr>\n",
       "    <tr>\n",
       "      <th>mean</th>\n",
       "      <td>98.249231</td>\n",
       "      <td>73.761538</td>\n",
       "    </tr>\n",
       "    <tr>\n",
       "      <th>std</th>\n",
       "      <td>0.733183</td>\n",
       "      <td>7.062077</td>\n",
       "    </tr>\n",
       "    <tr>\n",
       "      <th>min</th>\n",
       "      <td>96.300000</td>\n",
       "      <td>57.000000</td>\n",
       "    </tr>\n",
       "    <tr>\n",
       "      <th>25%</th>\n",
       "      <td>97.800000</td>\n",
       "      <td>69.000000</td>\n",
       "    </tr>\n",
       "    <tr>\n",
       "      <th>50%</th>\n",
       "      <td>98.300000</td>\n",
       "      <td>74.000000</td>\n",
       "    </tr>\n",
       "    <tr>\n",
       "      <th>75%</th>\n",
       "      <td>98.700000</td>\n",
       "      <td>79.000000</td>\n",
       "    </tr>\n",
       "    <tr>\n",
       "      <th>max</th>\n",
       "      <td>100.800000</td>\n",
       "      <td>89.000000</td>\n",
       "    </tr>\n",
       "  </tbody>\n",
       "</table>\n",
       "</div>"
      ],
      "text/plain": [
       "       temperature  heart_rate\n",
       "count   130.000000  130.000000\n",
       "mean     98.249231   73.761538\n",
       "std       0.733183    7.062077\n",
       "min      96.300000   57.000000\n",
       "25%      97.800000   69.000000\n",
       "50%      98.300000   74.000000\n",
       "75%      98.700000   79.000000\n",
       "max     100.800000   89.000000"
      ]
     },
     "execution_count": 20,
     "metadata": {},
     "output_type": "execute_result"
    }
   ],
   "source": [
    "cgdata.describe()"
   ]
  },
  {
   "cell_type": "code",
   "execution_count": null,
   "metadata": {
    "collapsed": true,
    "deletable": true,
    "editable": true
   },
   "outputs": [],
   "source": [
    "'''\n",
    "[2.3] Methods Continued:  Statistical Modeling\n",
    "\n",
    "In the assignment, question #3 was posed as follows:\n",
    "\n",
    "“Is the true population mean really 98.6 degrees F?”\n",
    "\n",
    "To answer this question and to understand information about the population mean, I used \n",
    "to following inferential statistical process to develop answers:\n",
    "\n",
    "[Step1] : Determine research and null hypothesis\n",
    "\n",
    "     <> Research Hypothesis:  The population mean is 98.6 degrees F\n",
    "     <> Null Hypothethsis:  The population is not 98.6 degrees F and because it can be lower\n",
    "        or higher than the mean, this will be  two tailed test.\n",
    "\n",
    "\n",
    "[Step2]: Select a level of significance\n",
    "\n",
    "     There are three levels available. 99% (.01 rejection area), 95% (.05 rejection area) \n",
    "     and 90% (.10 rejection area).  I will choose the most common which is 95%. But because\n",
    "     this is a two-tailed test, this will have two rejection areas of .0025\n",
    "\n",
    "\n",
    "[Step3]: Compute the test statistic (Z or T)\n",
    "     \n",
    "     To develop this portion of the analysis, the assignment posted by Springboard \n",
    "     posed 2 questions to help determining if we are to use a Z or T statistic for\n",
    "     step 3 as follows:\n",
    "\n",
    "        **Assignment Question #1:  In this situation, is it appropriate to use the  or  \n",
    "                                   statistic? \n",
    "\n",
    "        **My answer:  The following is often stated in statistics:\n",
    "          If n >=30 or population standard deviation is known, then we use the Z-test.\n",
    "          If n <30 AND population deviation is not known then we use the T test.\n",
    "          But, since we are given standard deviation and mean of the sample, it will be safer to \n",
    "          use the t-statistic. Hence, based on the condition, it would probably be best to \n",
    "          use the T test as follows:\n",
    "\n",
    "          T-distribution formula and calculation: \n",
    "\n",
    "         t = x – mu / (sigma/sqrt(N))\n",
    "           =  sample mean – population mean / (sample SD /sqrt(N))\n",
    "         t = (98.2 – 98.6) / (.733183/sqrt(130))\n",
    "\n",
    "         t= (.4) / .733/11.04)\n",
    "         t = (.4) / (.0664)\n",
    "         t= 6.04\n",
    "         df =  129\n",
    "\n",
    "          This test statistic will have a t distribution with 129 degrees of freedom.\n",
    "\n",
    "\n",
    "       ** Assignment Question #2:   Now try using the other test. How is the result be different? Why? \n",
    "       ** My Answer:   Generally we cannot use the Z test because the standard deviation of the \n",
    "          population is not known. However, when the sample size is large \n",
    "          (which is the case here), the sample standard deviation can be used as \n",
    "          an estimate of the population standard deviation and the z-test can provide \n",
    "           approximate results.\n",
    "\n",
    "Step4: Find the p-value \n",
    "Step5: Compare the calculated p-value with  alpha level from step 2\n",
    "\n",
    "\n",
    "'''"
   ]
  },
  {
   "cell_type": "code",
   "execution_count": null,
   "metadata": {
    "collapsed": true
   },
   "outputs": [],
   "source": [
    "'''\n",
    "\n",
    "-------------------\n",
    "[3] Results\n",
    "-------------------\n",
    "\n",
    "The human body temperature data used in this analysis contains information \n",
    "\n",
    "\n",
    "\n",
    "-------------------\n",
    "[4] Conclusions\n",
    "-------------------\n",
    "\n",
    "\n",
    "My analysis suggests the following about the questions posed at the beginning of the analysis:\n",
    "\n",
    "Q4:  At what temperature should we consider someone's temperature to be \"abnormal\"? \n",
    "\n",
    "Q4.1: Start by computing the margin of error and confidence interval. \n",
    "\n",
    "\n",
    "A4.1:  Calculate confidence interval using T (instead of Z)\n",
    "\n",
    "ME = (t)(alpha/2)(stand dev/sqrt(N))\n",
    "alpha = 1 - .95  =  .05\n",
    "\n",
    "ME = (t)(.05/2)(.733/sqrt(130))\n",
    "ME = (t)(.025)(.733/11.04))\n",
    "ME= (t)(.025)(.066)\n",
    "ME = (t) (.00165)\n",
    "\n",
    "To get t, use the t calculated above\n",
    "\n",
    "ME = (6.04)(.00165)\n",
    "\n",
    "ME = .003234\n",
    "\n",
    "confidence interval =  98.6 +/-  .003234\n",
    "\n",
    "So a persons temperature will be considered abnormal if it exists outside the confidence interval.\n",
    "\n",
    "\n",
    "Q5:   Is there a significant difference between males and females in normal temperature? \n",
    "\n",
    "Q5.1:    What test did you use and why? \n",
    "\n",
    "To answer this question, one can estimate the difference in male and female population means\n",
    "you will use a t-test for two sample means.\n",
    "\n",
    "  T = (sampleMean1 – sampleMean2) / (sqrt(s1^2/n1) + sqrt(s2^2/n1) )\n",
    "\n",
    "can use the appropriate tail test to reject or accept the null hypothessis based on the calculated value of t.\n",
    "\n",
    "\n",
    "-------------------\n",
    "[5]  Reproducibility\n",
    "-------------------\n",
    "\n",
    "All analysis performed in this report are reproduced in this jupyter notebook posted \n",
    "to my github.com using the Python programming language.  To reproduce the \n",
    "exact results presented in this report, one can download the python code \n",
    "and associated .csv file for analysis.\n",
    "\n",
    "\n",
    "-------------------\n",
    "[6] References\n",
    "-------------------\n",
    "1. Normal Body Temperature, Gender, and Heart Rate . (2010, October 29). Allen L. Shoemaker \n",
    "Retrieved from \n",
    "https://ww2.amstat.org/publications/jse/datasets/normtemp.txt\n",
    "\n",
    "'''"
   ]
  }
 ],
 "metadata": {
  "kernelspec": {
   "display_name": "Python 2",
   "language": "python",
   "name": "python2"
  },
  "language_info": {
   "codemirror_mode": {
    "name": "ipython",
    "version": 2
   },
   "file_extension": ".py",
   "mimetype": "text/x-python",
   "name": "python",
   "nbconvert_exporter": "python",
   "pygments_lexer": "ipython2",
   "version": "2.7.12"
  }
 },
 "nbformat": 4,
 "nbformat_minor": 2
}
