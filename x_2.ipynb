
"<p align="center">\n",
     "<img src="https://github.com/clgblubird/cgProject/blob/master/ml2pict.jpg?raw=true" width="350"/>\n",
     "</p>\n",

  
      
      
     
   
     
