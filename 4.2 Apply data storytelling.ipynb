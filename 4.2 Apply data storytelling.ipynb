{
 "cells": [
  {
   "cell_type": "code",
   "execution_count": null,
   "metadata": {
    "collapsed": true,
    "deletable": true,
    "editable": true
   },
   "outputs": [],
   "source": [
    "'''\n",
    "4.2Apply data storytelling\n",
    "Now that you've seen some examples of great data storytelling, let's apply it to \n",
    "your capstone project!\n",
    "\n",
    "\n",
    "Work on your Data Story\n",
    "\n",
    "How does one go about creating a data story? You have some pointers from the \n",
    "material you've just gone through, but theyre probably a bit on the abstract \n",
    "side when youre just getting started. Also, storytelling is an art, so you have \n",
    "to get your imagination going. Here are some pointers to get those creative \n",
    "juices flowing. In the following sections we will work step-by-step to create \n",
    "your first Data Story\n",
    "\n",
    "        Pick a dataset - ideally the dataset for your Capstone. If for some reason \n",
    "        you want to do this on a different data set, you can find one on Mode Analytics \n",
    "        or Google's public data sets directory, or pick another one you like from elsewhere.\n",
    "\n",
    "        Get going by asking the following questions and looking for the answers with \n",
    "        some code and plots:\n",
    "\n",
    "            Can you count something interesting?\n",
    "\n",
    "            Can you find some trends (high, low, increase, decrease, anomalies)?\n",
    "\n",
    "            Can you make a bar plot or a histogram?\n",
    "\n",
    "            Can you compare two related quantities?\n",
    "\n",
    "            Can you make a scatterplot?\n",
    "\n",
    "            Can you make a time-series plot?\n",
    "\n",
    "        Having made these plots, what are some insights you get from them? Do you see \n",
    "        any correlations? Is there a hypothesis you would like to investigate further? \n",
    "        What other questions do they lead you to ask?\n",
    "\n",
    "        By now youve asked a bunch of questions, and found some neat insights. Is \n",
    "        there an interesting narrative, a way of presenting the insights using text \n",
    "        and plots from the above, that tells a compelling story? As you work out \n",
    "        this story, what are some other trends/relationships you think will make \n",
    "        it more complete?\n",
    "'''"
   ]
  },
  {
   "cell_type": "code",
   "execution_count": 2,
   "metadata": {
    "collapsed": true,
    "deletable": true,
    "editable": true
   },
   "outputs": [],
   "source": [
    "import pandas as pd"
   ]
  },
  {
   "cell_type": "code",
   "execution_count": 3,
   "metadata": {
    "collapsed": true,
    "deletable": true,
    "editable": true
   },
   "outputs": [],
   "source": [
    "import numpy as np"
   ]
  },
  {
   "cell_type": "code",
   "execution_count": 4,
   "metadata": {
    "collapsed": true,
    "deletable": true,
    "editable": true
   },
   "outputs": [],
   "source": [
    "import matplotlib.pyplot as plt"
   ]
  },
  {
   "cell_type": "code",
   "execution_count": 5,
   "metadata": {
    "collapsed": true,
    "deletable": true,
    "editable": true
   },
   "outputs": [],
   "source": [
    "%matplotlib inline"
   ]
  },
  {
   "cell_type": "code",
   "execution_count": 7,
   "metadata": {
    "collapsed": false,
    "deletable": true,
    "editable": true
   },
   "outputs": [
    {
     "data": {
      "text/html": [
       "<div>\n",
       "<table border=\"1\" class=\"dataframe\">\n",
       "  <thead>\n",
       "    <tr style=\"text-align: right;\">\n",
       "      <th></th>\n",
       "      <th>Row ID</th>\n",
       "      <th>Order ID</th>\n",
       "      <th>Order Date</th>\n",
       "      <th>Order Priority</th>\n",
       "      <th>Order Quantity</th>\n",
       "      <th>Sales</th>\n",
       "      <th>Discount</th>\n",
       "      <th>Ship Mode</th>\n",
       "      <th>Profit</th>\n",
       "      <th>Unit Price</th>\n",
       "      <th>...</th>\n",
       "      <th>CustomerNum</th>\n",
       "      <th>Province</th>\n",
       "      <th>Region</th>\n",
       "      <th>Customer Segment</th>\n",
       "      <th>Product Category</th>\n",
       "      <th>Product Sub-Category</th>\n",
       "      <th>Product Name</th>\n",
       "      <th>Product Container</th>\n",
       "      <th>Product Base Margin</th>\n",
       "      <th>Ship Date</th>\n",
       "    </tr>\n",
       "  </thead>\n",
       "  <tbody>\n",
       "    <tr>\n",
       "      <th>0</th>\n",
       "      <td>1</td>\n",
       "      <td>3</td>\n",
       "      <td>10/13/2010</td>\n",
       "      <td>Low</td>\n",
       "      <td>6</td>\n",
       "      <td>261.5400</td>\n",
       "      <td>0.04</td>\n",
       "      <td>Regular Air</td>\n",
       "      <td>-213.25</td>\n",
       "      <td>38.94</td>\n",
       "      <td>...</td>\n",
       "      <td>1</td>\n",
       "      <td>Nunavut</td>\n",
       "      <td>Nunavut</td>\n",
       "      <td>Small Business</td>\n",
       "      <td>Office Supplies</td>\n",
       "      <td>Storage &amp; Organization</td>\n",
       "      <td>Eldon Base for stackable storage shelf, platinum</td>\n",
       "      <td>Large Box</td>\n",
       "      <td>0.80</td>\n",
       "      <td>10/20/2010</td>\n",
       "    </tr>\n",
       "    <tr>\n",
       "      <th>1</th>\n",
       "      <td>49</td>\n",
       "      <td>293</td>\n",
       "      <td>10/1/2012</td>\n",
       "      <td>High</td>\n",
       "      <td>49</td>\n",
       "      <td>10123.0200</td>\n",
       "      <td>0.07</td>\n",
       "      <td>Delivery Truck</td>\n",
       "      <td>457.81</td>\n",
       "      <td>208.16</td>\n",
       "      <td>...</td>\n",
       "      <td>2</td>\n",
       "      <td>Nunavut</td>\n",
       "      <td>Nunavut</td>\n",
       "      <td>Consumer</td>\n",
       "      <td>Office Supplies</td>\n",
       "      <td>Appliances</td>\n",
       "      <td>1.7 Cubic Foot Compact \"Cube\" Office Refrigera...</td>\n",
       "      <td>Jumbo Drum</td>\n",
       "      <td>0.58</td>\n",
       "      <td>10/2/2012</td>\n",
       "    </tr>\n",
       "    <tr>\n",
       "      <th>2</th>\n",
       "      <td>50</td>\n",
       "      <td>293</td>\n",
       "      <td>10/1/2012</td>\n",
       "      <td>High</td>\n",
       "      <td>27</td>\n",
       "      <td>244.5700</td>\n",
       "      <td>0.01</td>\n",
       "      <td>Regular Air</td>\n",
       "      <td>46.71</td>\n",
       "      <td>8.69</td>\n",
       "      <td>...</td>\n",
       "      <td>2</td>\n",
       "      <td>Nunavut</td>\n",
       "      <td>Nunavut</td>\n",
       "      <td>Consumer</td>\n",
       "      <td>Office Supplies</td>\n",
       "      <td>Binders and Binder Accessories</td>\n",
       "      <td>Cardinal Slant-D? Ring Binder, Heavy Gauge Vinyl</td>\n",
       "      <td>Small Box</td>\n",
       "      <td>0.39</td>\n",
       "      <td>10/3/2012</td>\n",
       "    </tr>\n",
       "    <tr>\n",
       "      <th>3</th>\n",
       "      <td>80</td>\n",
       "      <td>483</td>\n",
       "      <td>7/10/2011</td>\n",
       "      <td>High</td>\n",
       "      <td>30</td>\n",
       "      <td>4965.7595</td>\n",
       "      <td>0.08</td>\n",
       "      <td>Regular Air</td>\n",
       "      <td>1198.97</td>\n",
       "      <td>195.99</td>\n",
       "      <td>...</td>\n",
       "      <td>3</td>\n",
       "      <td>Nunavut</td>\n",
       "      <td>Nunavut</td>\n",
       "      <td>Corporate</td>\n",
       "      <td>Technology</td>\n",
       "      <td>Telephones and Communication</td>\n",
       "      <td>R380</td>\n",
       "      <td>Small Box</td>\n",
       "      <td>0.58</td>\n",
       "      <td>7/12/2011</td>\n",
       "    </tr>\n",
       "    <tr>\n",
       "      <th>4</th>\n",
       "      <td>85</td>\n",
       "      <td>515</td>\n",
       "      <td>8/28/2010</td>\n",
       "      <td>Not Specified</td>\n",
       "      <td>19</td>\n",
       "      <td>394.2700</td>\n",
       "      <td>0.08</td>\n",
       "      <td>Regular Air</td>\n",
       "      <td>30.94</td>\n",
       "      <td>21.78</td>\n",
       "      <td>...</td>\n",
       "      <td>4</td>\n",
       "      <td>Nunavut</td>\n",
       "      <td>Nunavut</td>\n",
       "      <td>Consumer</td>\n",
       "      <td>Office Supplies</td>\n",
       "      <td>Appliances</td>\n",
       "      <td>Holmes HEPA Air Purifier</td>\n",
       "      <td>Medium Box</td>\n",
       "      <td>0.50</td>\n",
       "      <td>8/30/2010</td>\n",
       "    </tr>\n",
       "  </tbody>\n",
       "</table>\n",
       "<p>5 rows × 22 columns</p>\n",
       "</div>"
      ],
      "text/plain": [
       "   Row ID  Order ID  Order Date Order Priority  Order Quantity       Sales  \\\n",
       "0       1         3  10/13/2010            Low               6    261.5400   \n",
       "1      49       293   10/1/2012           High              49  10123.0200   \n",
       "2      50       293   10/1/2012           High              27    244.5700   \n",
       "3      80       483   7/10/2011           High              30   4965.7595   \n",
       "4      85       515   8/28/2010  Not Specified              19    394.2700   \n",
       "\n",
       "   Discount       Ship Mode   Profit  Unit Price     ...      CustomerNum  \\\n",
       "0      0.04     Regular Air  -213.25       38.94     ...                1   \n",
       "1      0.07  Delivery Truck   457.81      208.16     ...                2   \n",
       "2      0.01     Regular Air    46.71        8.69     ...                2   \n",
       "3      0.08     Regular Air  1198.97      195.99     ...                3   \n",
       "4      0.08     Regular Air    30.94       21.78     ...                4   \n",
       "\n",
       "  Province   Region Customer Segment Product Category  \\\n",
       "0  Nunavut  Nunavut   Small Business  Office Supplies   \n",
       "1  Nunavut  Nunavut         Consumer  Office Supplies   \n",
       "2  Nunavut  Nunavut         Consumer  Office Supplies   \n",
       "3  Nunavut  Nunavut        Corporate       Technology   \n",
       "4  Nunavut  Nunavut         Consumer  Office Supplies   \n",
       "\n",
       "             Product Sub-Category  \\\n",
       "0          Storage & Organization   \n",
       "1                      Appliances   \n",
       "2  Binders and Binder Accessories   \n",
       "3    Telephones and Communication   \n",
       "4                      Appliances   \n",
       "\n",
       "                                        Product Name Product Container  \\\n",
       "0   Eldon Base for stackable storage shelf, platinum         Large Box   \n",
       "1  1.7 Cubic Foot Compact \"Cube\" Office Refrigera...        Jumbo Drum   \n",
       "2   Cardinal Slant-D? Ring Binder, Heavy Gauge Vinyl         Small Box   \n",
       "3                                               R380         Small Box   \n",
       "4                           Holmes HEPA Air Purifier        Medium Box   \n",
       "\n",
       "  Product Base Margin   Ship Date  \n",
       "0                0.80  10/20/2010  \n",
       "1                0.58   10/2/2012  \n",
       "2                0.39   10/3/2012  \n",
       "3                0.58   7/12/2011  \n",
       "4                0.50   8/30/2010  \n",
       "\n",
       "[5 rows x 22 columns]"
      ]
     },
     "execution_count": 7,
     "metadata": {},
     "output_type": "execute_result"
    }
   ],
   "source": [
    "cgdata=pd.read_csv(\"/home/x7/Desktop/springboardjupdata/Superstore_Salesv2.csv\")\n",
    "cgdata.head()"
   ]
  },
  {
   "cell_type": "code",
   "execution_count": null,
   "metadata": {
    "collapsed": true
   },
   "outputs": [],
   "source": [
    "'''\n",
    "See data story below\n",
    "'''"
   ]
  },
  {
   "cell_type": "code",
   "execution_count": 121,
   "metadata": {
    "collapsed": false,
    "deletable": true,
    "editable": true
   },
   "outputs": [],
   "source": [
    "import pandas as pd\n",
    "import numpy as np\n",
    "import matplotlib.pyplot as plt"
   ]
  },
  {
   "cell_type": "code",
   "execution_count": 122,
   "metadata": {
    "collapsed": true
   },
   "outputs": [],
   "source": [
    "%matplotlib inline"
   ]
  },
  {
   "cell_type": "code",
   "execution_count": 123,
   "metadata": {
    "collapsed": true
   },
   "outputs": [],
   "source": [
    "cgdata=pd.read_csv(\"/home/x7/Desktop/springboardjupdata/Superstore_Salesv2.csv\")"
   ]
  },
  {
   "cell_type": "code",
   "execution_count": 128,
   "metadata": {
    "collapsed": false
   },
   "outputs": [
    {
     "data": {
      "text/html": [
       "<div>\n",
       "<table border=\"1\" class=\"dataframe\">\n",
       "  <thead>\n",
       "    <tr style=\"text-align: right;\">\n",
       "      <th></th>\n",
       "      <th>Sales</th>\n",
       "      <th>Customer Name</th>\n",
       "    </tr>\n",
       "  </thead>\n",
       "  <tbody>\n",
       "    <tr>\n",
       "      <th>0</th>\n",
       "      <td>261.5400</td>\n",
       "      <td>Muhammed MacIntyre</td>\n",
       "    </tr>\n",
       "    <tr>\n",
       "      <th>1</th>\n",
       "      <td>10123.0200</td>\n",
       "      <td>Barry French</td>\n",
       "    </tr>\n",
       "    <tr>\n",
       "      <th>2</th>\n",
       "      <td>244.5700</td>\n",
       "      <td>Barry French</td>\n",
       "    </tr>\n",
       "    <tr>\n",
       "      <th>3</th>\n",
       "      <td>4965.7595</td>\n",
       "      <td>Clay Rozendal</td>\n",
       "    </tr>\n",
       "    <tr>\n",
       "      <th>4</th>\n",
       "      <td>394.2700</td>\n",
       "      <td>Carlos Soltero</td>\n",
       "    </tr>\n",
       "  </tbody>\n",
       "</table>\n",
       "</div>"
      ],
      "text/plain": [
       "        Sales       Customer Name\n",
       "0    261.5400  Muhammed MacIntyre\n",
       "1  10123.0200        Barry French\n",
       "2    244.5700        Barry French\n",
       "3   4965.7595       Clay Rozendal\n",
       "4    394.2700      Carlos Soltero"
      ]
     },
     "execution_count": 128,
     "metadata": {},
     "output_type": "execute_result"
    }
   ],
   "source": [
    "data = cgdata[['Sales','Customer Name']]\n",
    "data.head()"
   ]
  },
  {
   "cell_type": "code",
   "execution_count": null,
   "metadata": {
    "collapsed": true
   },
   "outputs": [],
   "source": [
    "'''\n",
    "View entire list of customers and the total transactions per customer by name (Getting to \n",
    "know you customers begin with the names  :) )\n",
    "\n",
    "'''"
   ]
  },
  {
   "cell_type": "code",
   "execution_count": 129,
   "metadata": {
    "collapsed": false
   },
   "outputs": [
    {
     "data": {
      "text/plain": [
       "Customer Name\n",
       "Aaron Bergman            7\n",
       "Aaron Hawkins           12\n",
       "Aaron Smayling          14\n",
       "Adam Bellavance         12\n",
       "Adam Hart               27\n",
       "Adam Shillingsburg      12\n",
       "Adrian Barton            5\n",
       "Adrian Hane              4\n",
       "Adrian Shami             6\n",
       "Aimee Bixby              4\n",
       "Alan Barnes             14\n",
       "Alan Dominguez           6\n",
       "Alan Haines             13\n",
       "Alan Hwang              27\n",
       "Alan Schoenberger       10\n",
       "Alan Shonely             7\n",
       "Alejandro Ballentine     9\n",
       "Alejandro Grove         14\n",
       "Alejandro Savely         5\n",
       "Aleksandra Gannaway     18\n",
       "Alex Avila              14\n",
       "Alex Grayson            15\n",
       "Alex Russell            10\n",
       "Alice McCarthy          10\n",
       "Allen Armold             7\n",
       "Allen Golden             7\n",
       "Allen Rosenblatt         6\n",
       "Alyssa Crouse            8\n",
       "Alyssa Tate              7\n",
       "Amy Cox                 19\n",
       "                        ..\n",
       "Tonja Turnell           14\n",
       "Tony Chapman             8\n",
       "Tony Molinari           10\n",
       "Tony Sayre              29\n",
       "Tracy Blumstein         10\n",
       "Tracy Collins           18\n",
       "Tracy Hopkins            6\n",
       "Tracy Poddar            12\n",
       "Tracy Zic                8\n",
       "Troy Blackwell          15\n",
       "Troy Staebel            13\n",
       "Trudy Bell               9\n",
       "Trudy Brown             10\n",
       "Trudy Schmidt            7\n",
       "Valerie Dominguez        9\n",
       "Valerie Mitchum          6\n",
       "Valerie Takahito        19\n",
       "Vicky Freymann           9\n",
       "Victor Price             6\n",
       "Victoria Brennan        11\n",
       "Victoria Pisteka        18\n",
       "Victoria Wilson         16\n",
       "Vivek Gonzalez           6\n",
       "Vivek Grady             23\n",
       "Vivek Sundaresam         8\n",
       "Vivian Mathis           15\n",
       "William Brown           23\n",
       "Xylona Price            14\n",
       "Yana Sorensen            6\n",
       "Yoseph Carroll           9\n",
       "dtype: int64"
      ]
     },
     "execution_count": 129,
     "metadata": {},
     "output_type": "execute_result"
    }
   ],
   "source": [
    "customer_grp = data.groupby('Customer Name')\n",
    "customer_grp.size()"
   ]
  },
  {
   "cell_type": "code",
   "execution_count": null,
   "metadata": {
    "collapsed": true
   },
   "outputs": [],
   "source": [
    "'''\n",
    "View total sales by customer by chart\n",
    "'''"
   ]
  },
  {
   "cell_type": "code",
   "execution_count": 131,
   "metadata": {
    "collapsed": false
   },
   "outputs": [
    {
     "data": {
      "text/html": [
       "<div>\n",
       "<table border=\"1\" class=\"dataframe\">\n",
       "  <thead>\n",
       "    <tr style=\"text-align: right;\">\n",
       "      <th></th>\n",
       "      <th>Sales</th>\n",
       "    </tr>\n",
       "    <tr>\n",
       "      <th>Customer Name</th>\n",
       "      <th></th>\n",
       "    </tr>\n",
       "  </thead>\n",
       "  <tbody>\n",
       "    <tr>\n",
       "      <th>Jeremy Farry</th>\n",
       "      <td>85.72</td>\n",
       "    </tr>\n",
       "    <tr>\n",
       "      <th>Natalie DeCherney</th>\n",
       "      <td>125.90</td>\n",
       "    </tr>\n",
       "    <tr>\n",
       "      <th>Nicole Fjeld</th>\n",
       "      <td>153.03</td>\n",
       "    </tr>\n",
       "    <tr>\n",
       "      <th>Katrina Edelman</th>\n",
       "      <td>180.76</td>\n",
       "    </tr>\n",
       "    <tr>\n",
       "      <th>Dorothy Dickinson</th>\n",
       "      <td>198.08</td>\n",
       "    </tr>\n",
       "  </tbody>\n",
       "</table>\n",
       "</div>"
      ],
      "text/plain": [
       "                    Sales\n",
       "Customer Name            \n",
       "Jeremy Farry        85.72\n",
       "Natalie DeCherney  125.90\n",
       "Nicole Fjeld       153.03\n",
       "Katrina Edelman    180.76\n",
       "Dorothy Dickinson  198.08"
      ]
     },
     "execution_count": 131,
     "metadata": {},
     "output_type": "execute_result"
    }
   ],
   "source": [
    "sales_totals = customer_grp.sum()\n",
    "sales_totals.sort_values(by='Sales').head()"
   ]
  },
  {
   "cell_type": "code",
   "execution_count": null,
   "metadata": {
    "collapsed": true
   },
   "outputs": [],
   "source": [
    "'''\n",
    "View total sales by customer by graph\n",
    "'''"
   ]
  },
  {
   "cell_type": "code",
   "execution_count": 132,
   "metadata": {
    "collapsed": false
   },
   "outputs": [
    {
     "data": {
      "image/png": "[encoded data removed]",
      "text/plain": [
       "<matplotlib.figure.Figure at 0x7f6b006eed10>"
      ]
     },
     "metadata": {},
     "output_type": "display_data"
    }
   ],
   "source": [
    "cg_plot = sales_totals.plot(kind='bar')"
   ]
  },
  {
   "cell_type": "code",
   "execution_count": null,
   "metadata": {
    "collapsed": true
   },
   "outputs": [],
   "source": [
    "'''\n",
    "The next graph This actually tells us a little about \n",
    "the biggest customers and how much difference there is \n",
    "between their sales and our smallest customers.\n",
    "\n",
    "\n",
    "'''"
   ]
  },
  {
   "cell_type": "code",
   "execution_count": 137,
   "metadata": {
    "collapsed": false
   },
   "outputs": [
    {
     "data": {
      "text/plain": [
       "<matplotlib.text.Text at 0x7f6afcf00050>"
      ]
     },
     "execution_count": 137,
     "metadata": {},
     "output_type": "execute_result"
    },
    {
     "data": {
      "image/png": "[encoded data removed]",
      "text/plain": [
       "<matplotlib.figure.Figure at 0x7f6b0db42950>"
      ]
     },
     "metadata": {},
     "output_type": "display_data"
    }
   ],
   "source": [
    "cg_plot = sales_totals.sort_values(by='Sales',ascending=False).plot(kind='bar',legend=None,title=\"Total Sales by Customer\")\n",
    "cg_plot.set_xlabel(\"Customers\")\n",
    "cg_plot.set_ylabel(\"Sales ($)\")"
   ]
  },
  {
   "cell_type": "code",
   "execution_count": null,
   "metadata": {
    "collapsed": true
   },
   "outputs": [],
   "source": [
    "'''\n",
    "Sales break down by Customer Name,Product Category,Sales and Order Date\n",
    "'''"
   ]
  },
  {
   "cell_type": "code",
   "execution_count": 167,
   "metadata": {
    "collapsed": false
   },
   "outputs": [
    {
     "data": {
      "text/html": [
       "<div>\n",
       "<table border=\"1\" class=\"dataframe\">\n",
       "  <thead>\n",
       "    <tr style=\"text-align: right;\">\n",
       "      <th></th>\n",
       "      <th>Customer Name</th>\n",
       "      <th>Product Category</th>\n",
       "      <th>Sales</th>\n",
       "      <th>Order Date</th>\n",
       "    </tr>\n",
       "  </thead>\n",
       "  <tbody>\n",
       "    <tr>\n",
       "      <th>0</th>\n",
       "      <td>Muhammed MacIntyre</td>\n",
       "      <td>Office Supplies</td>\n",
       "      <td>261.5400</td>\n",
       "      <td>10/13/2010</td>\n",
       "    </tr>\n",
       "    <tr>\n",
       "      <th>1</th>\n",
       "      <td>Barry French</td>\n",
       "      <td>Office Supplies</td>\n",
       "      <td>10123.0200</td>\n",
       "      <td>10/1/2012</td>\n",
       "    </tr>\n",
       "    <tr>\n",
       "      <th>2</th>\n",
       "      <td>Barry French</td>\n",
       "      <td>Office Supplies</td>\n",
       "      <td>244.5700</td>\n",
       "      <td>10/1/2012</td>\n",
       "    </tr>\n",
       "    <tr>\n",
       "      <th>3</th>\n",
       "      <td>Clay Rozendal</td>\n",
       "      <td>Technology</td>\n",
       "      <td>4965.7595</td>\n",
       "      <td>7/10/2011</td>\n",
       "    </tr>\n",
       "    <tr>\n",
       "      <th>4</th>\n",
       "      <td>Carlos Soltero</td>\n",
       "      <td>Office Supplies</td>\n",
       "      <td>394.2700</td>\n",
       "      <td>8/28/2010</td>\n",
       "    </tr>\n",
       "  </tbody>\n",
       "</table>\n",
       "</div>"
      ],
      "text/plain": [
       "        Customer Name Product Category       Sales  Order Date\n",
       "0  Muhammed MacIntyre  Office Supplies    261.5400  10/13/2010\n",
       "1        Barry French  Office Supplies  10123.0200   10/1/2012\n",
       "2        Barry French  Office Supplies    244.5700   10/1/2012\n",
       "3       Clay Rozendal       Technology   4965.7595   7/10/2011\n",
       "4      Carlos Soltero  Office Supplies    394.2700   8/28/2010"
      ]
     },
     "execution_count": 167,
     "metadata": {},
     "output_type": "execute_result"
    }
   ],
   "source": [
    "customers = cgdata[['Customer Name','Product Category','Sales','Order Date']]\n",
    "customers.head()"
   ]
  },
  {
   "cell_type": "code",
   "execution_count": null,
   "metadata": {
    "collapsed": true
   },
   "outputs": [],
   "source": [
    "'''\n",
    "use groupby to organize the data by category and name.\n",
    "\n",
    "'''"
   ]
  },
  {
   "cell_type": "code",
   "execution_count": 143,
   "metadata": {
    "collapsed": false
   },
   "outputs": [
    {
     "data": {
      "text/html": [
       "<div>\n",
       "<table border=\"1\" class=\"dataframe\">\n",
       "  <thead>\n",
       "    <tr style=\"text-align: right;\">\n",
       "      <th></th>\n",
       "      <th></th>\n",
       "      <th>Sales</th>\n",
       "    </tr>\n",
       "    <tr>\n",
       "      <th>Customer Name</th>\n",
       "      <th>Product Category</th>\n",
       "      <th></th>\n",
       "    </tr>\n",
       "  </thead>\n",
       "  <tbody>\n",
       "    <tr>\n",
       "      <th rowspan=\"2\" valign=\"top\">Aaron Bergman</th>\n",
       "      <th>Office Supplies</th>\n",
       "      <td>2695.7500</td>\n",
       "    </tr>\n",
       "    <tr>\n",
       "      <th>Technology</th>\n",
       "      <td>8934.8400</td>\n",
       "    </tr>\n",
       "    <tr>\n",
       "      <th rowspan=\"3\" valign=\"top\">Aaron Hawkins</th>\n",
       "      <th>Furniture</th>\n",
       "      <td>18491.7980</td>\n",
       "    </tr>\n",
       "    <tr>\n",
       "      <th>Office Supplies</th>\n",
       "      <td>5788.7700</td>\n",
       "    </tr>\n",
       "    <tr>\n",
       "      <th>Technology</th>\n",
       "      <td>3410.1575</td>\n",
       "    </tr>\n",
       "  </tbody>\n",
       "</table>\n",
       "</div>"
      ],
      "text/plain": [
       "                                     Sales\n",
       "Customer Name Product Category            \n",
       "Aaron Bergman Office Supplies    2695.7500\n",
       "              Technology         8934.8400\n",
       "Aaron Hawkins Furniture         18491.7980\n",
       "              Office Supplies    5788.7700\n",
       "              Technology         3410.1575"
      ]
     },
     "execution_count": 143,
     "metadata": {},
     "output_type": "execute_result"
    }
   ],
   "source": [
    "category_group=customers.groupby(['Customer Name','Product Category']).sum()\n",
    "category_group.head()"
   ]
  },
  {
   "cell_type": "code",
   "execution_count": null,
   "metadata": {
    "collapsed": true
   },
   "outputs": [],
   "source": [
    "'''\n",
    "stacked bar graph.\n",
    "\n",
    "'''"
   ]
  },
  {
   "cell_type": "code",
   "execution_count": 144,
   "metadata": {
    "collapsed": false
   },
   "outputs": [
    {
     "data": {
      "text/html": [
       "<div>\n",
       "<table border=\"1\" class=\"dataframe\">\n",
       "  <thead>\n",
       "    <tr>\n",
       "      <th></th>\n",
       "      <th colspan=\"3\" halign=\"left\">Sales</th>\n",
       "    </tr>\n",
       "    <tr>\n",
       "      <th>Product Category</th>\n",
       "      <th>Furniture</th>\n",
       "      <th>Office Supplies</th>\n",
       "      <th>Technology</th>\n",
       "    </tr>\n",
       "    <tr>\n",
       "      <th>Customer Name</th>\n",
       "      <th></th>\n",
       "      <th></th>\n",
       "      <th></th>\n",
       "    </tr>\n",
       "  </thead>\n",
       "  <tbody>\n",
       "    <tr>\n",
       "      <th>Aaron Bergman</th>\n",
       "      <td>NaN</td>\n",
       "      <td>2695.75</td>\n",
       "      <td>8934.8400</td>\n",
       "    </tr>\n",
       "    <tr>\n",
       "      <th>Aaron Hawkins</th>\n",
       "      <td>18491.798</td>\n",
       "      <td>5788.77</td>\n",
       "      <td>3410.1575</td>\n",
       "    </tr>\n",
       "    <tr>\n",
       "      <th>Aaron Smayling</th>\n",
       "      <td>3311.830</td>\n",
       "      <td>1928.75</td>\n",
       "      <td>3594.7435</td>\n",
       "    </tr>\n",
       "    <tr>\n",
       "      <th>Adam Bellavance</th>\n",
       "      <td>6278.000</td>\n",
       "      <td>4668.59</td>\n",
       "      <td>630.9900</td>\n",
       "    </tr>\n",
       "    <tr>\n",
       "      <th>Adam Hart</th>\n",
       "      <td>3160.980</td>\n",
       "      <td>12544.14</td>\n",
       "      <td>10409.1445</td>\n",
       "    </tr>\n",
       "  </tbody>\n",
       "</table>\n",
       "</div>"
      ],
      "text/plain": [
       "                      Sales                            \n",
       "Product Category  Furniture Office Supplies  Technology\n",
       "Customer Name                                          \n",
       "Aaron Bergman           NaN         2695.75   8934.8400\n",
       "Aaron Hawkins     18491.798         5788.77   3410.1575\n",
       "Aaron Smayling     3311.830         1928.75   3594.7435\n",
       "Adam Bellavance    6278.000         4668.59    630.9900\n",
       "Adam Hart          3160.980        12544.14  10409.1445"
      ]
     },
     "execution_count": 144,
     "metadata": {},
     "output_type": "execute_result"
    }
   ],
   "source": [
    "category_group.unstack().head()"
   ]
  },
  {
   "cell_type": "code",
   "execution_count": 145,
   "metadata": {
    "collapsed": false
   },
   "outputs": [
    {
     "data": {
      "text/plain": [
       "<matplotlib.text.Text at 0x7f6afcaa3190>"
      ]
     },
     "execution_count": 145,
     "metadata": {},
     "output_type": "execute_result"
    },
    {
     "data": {
      "image/png": "[encoded data removed]",
      "text/plain": [
       "<matplotlib.figure.Figure at 0x7f6aff059c90>"
      ]
     },
     "metadata": {},
     "output_type": "display_data"
    }
   ],
   "source": [
    "cg_plot = category_group.unstack().plot(kind='bar',stacked=True,title=\"Total Sales by Customer\")\n",
    "cg_plot.set_xlabel(\"Customers\")\n",
    "cg_plot.set_ylabel(\"Sales\")"
   ]
  },
  {
   "cell_type": "code",
   "execution_count": null,
   "metadata": {
    "collapsed": true
   },
   "outputs": [],
   "source": [
    "'''\n",
    "A histogram allows us to group purchases together so we can \n",
    "see how big the customer transactions are.\n",
    "'''"
   ]
  },
  {
   "cell_type": "code",
   "execution_count": 147,
   "metadata": {
    "collapsed": false
   },
   "outputs": [
    {
     "data": {
      "text/html": [
       "<div>\n",
       "<table border=\"1\" class=\"dataframe\">\n",
       "  <thead>\n",
       "    <tr style=\"text-align: right;\">\n",
       "      <th></th>\n",
       "      <th>Sales</th>\n",
       "      <th>Order Date</th>\n",
       "    </tr>\n",
       "  </thead>\n",
       "  <tbody>\n",
       "    <tr>\n",
       "      <th>0</th>\n",
       "      <td>261.5400</td>\n",
       "      <td>10/13/2010</td>\n",
       "    </tr>\n",
       "    <tr>\n",
       "      <th>1</th>\n",
       "      <td>10123.0200</td>\n",
       "      <td>10/1/2012</td>\n",
       "    </tr>\n",
       "    <tr>\n",
       "      <th>2</th>\n",
       "      <td>244.5700</td>\n",
       "      <td>10/1/2012</td>\n",
       "    </tr>\n",
       "    <tr>\n",
       "      <th>3</th>\n",
       "      <td>4965.7595</td>\n",
       "      <td>7/10/2011</td>\n",
       "    </tr>\n",
       "    <tr>\n",
       "      <th>4</th>\n",
       "      <td>394.2700</td>\n",
       "      <td>8/28/2010</td>\n",
       "    </tr>\n",
       "  </tbody>\n",
       "</table>\n",
       "</div>"
      ],
      "text/plain": [
       "        Sales  Order Date\n",
       "0    261.5400  10/13/2010\n",
       "1  10123.0200   10/1/2012\n",
       "2    244.5700   10/1/2012\n",
       "3   4965.7595   7/10/2011\n",
       "4    394.2700   8/28/2010"
      ]
     },
     "execution_count": 147,
     "metadata": {},
     "output_type": "execute_result"
    }
   ],
   "source": [
    "purchase_patterns = cgdata[['Sales','Order Date']]\n",
    "purchase_patterns.head()"
   ]
  },
  {
   "cell_type": "code",
   "execution_count": null,
   "metadata": {
    "collapsed": true
   },
   "outputs": [],
   "source": [
    "'''\n",
    " create a histogram with 20 bins to show the distribution of purchasing patterns.\n",
    "'''"
   ]
  },
  {
   "cell_type": "code",
   "execution_count": 148,
   "metadata": {
    "collapsed": false
   },
   "outputs": [
    {
     "data": {
      "text/plain": [
       "<matplotlib.text.Text at 0x7f6afc9dbe50>"
      ]
     },
     "execution_count": 148,
     "metadata": {},
     "output_type": "execute_result"
    },
    {
     "data": {
      "image/png": "[encoded data removed]",
      "text/plain": [
       "<matplotlib.figure.Figure at 0x7f6b0d287f50>"
      ]
     },
     "metadata": {},
     "output_type": "display_data"
    }
   ],
   "source": [
    "purchase_plot = purchase_patterns['Sales'].hist(bins=20)\n",
    "purchase_plot.set_title(\"Purchase Patterns\")\n",
    "purchase_plot.set_xlabel(\"Order Amount($)\")\n",
    "purchase_plot.set_ylabel(\"Number of orders\")"
   ]
  },
  {
   "cell_type": "code",
   "execution_count": null,
   "metadata": {
    "collapsed": true
   },
   "outputs": [],
   "source": [
    "'''\n",
    "In looking at purchase patterns in the graph above, over time, we can see that \n",
    "most of our transactions are less than $10,000 and only a very \n",
    "few are about $30,000.\n",
    "\n",
    "'''"
   ]
  },
  {
   "cell_type": "code",
   "execution_count": null,
   "metadata": {
    "collapsed": true
   },
   "outputs": [],
   "source": [
    "'''\n",
    "Next we can look at the data would be by sales over time. A chart \n",
    "might help us understand, “Do we have certain months where we\n",
    "are busier than others?\n",
    "'''"
   ]
  },
  {
   "cell_type": "code",
   "execution_count": 164,
   "metadata": {
    "collapsed": false
   },
   "outputs": [
    {
     "data": {
      "text/html": [
       "<div>\n",
       "<table border=\"1\" class=\"dataframe\">\n",
       "  <thead>\n",
       "    <tr style=\"text-align: right;\">\n",
       "      <th></th>\n",
       "      <th>Sales</th>\n",
       "      <th>Order Date</th>\n",
       "    </tr>\n",
       "  </thead>\n",
       "  <tbody>\n",
       "    <tr>\n",
       "      <th>0</th>\n",
       "      <td>261.5400</td>\n",
       "      <td>10/13/2010</td>\n",
       "    </tr>\n",
       "    <tr>\n",
       "      <th>1</th>\n",
       "      <td>10123.0200</td>\n",
       "      <td>10/1/2012</td>\n",
       "    </tr>\n",
       "    <tr>\n",
       "      <th>2</th>\n",
       "      <td>244.5700</td>\n",
       "      <td>10/1/2012</td>\n",
       "    </tr>\n",
       "    <tr>\n",
       "      <th>3</th>\n",
       "      <td>4965.7595</td>\n",
       "      <td>7/10/2011</td>\n",
       "    </tr>\n",
       "    <tr>\n",
       "      <th>4</th>\n",
       "      <td>394.2700</td>\n",
       "      <td>8/28/2010</td>\n",
       "    </tr>\n",
       "  </tbody>\n",
       "</table>\n",
       "</div>"
      ],
      "text/plain": [
       "        Sales  Order Date\n",
       "0    261.5400  10/13/2010\n",
       "1  10123.0200   10/1/2012\n",
       "2    244.5700   10/1/2012\n",
       "3   4965.7595   7/10/2011\n",
       "4    394.2700   8/28/2010"
      ]
     },
     "execution_count": 164,
     "metadata": {},
     "output_type": "execute_result"
    }
   ],
   "source": [
    "purchase_patterns = cgdata[['Sales','Order Date']]\n",
    "purchase_patterns.head()"
   ]
  },
  {
   "cell_type": "code",
   "execution_count": 165,
   "metadata": {
    "collapsed": false
   },
   "outputs": [
    {
     "data": {
      "text/html": [
       "<div>\n",
       "<table border=\"1\" class=\"dataframe\">\n",
       "  <thead>\n",
       "    <tr style=\"text-align: right;\">\n",
       "      <th></th>\n",
       "      <th>Sales</th>\n",
       "    </tr>\n",
       "    <tr>\n",
       "      <th>Order Date</th>\n",
       "      <th></th>\n",
       "    </tr>\n",
       "  </thead>\n",
       "  <tbody>\n",
       "    <tr>\n",
       "      <th>10/13/2010</th>\n",
       "      <td>261.5400</td>\n",
       "    </tr>\n",
       "    <tr>\n",
       "      <th>10/1/2012</th>\n",
       "      <td>10123.0200</td>\n",
       "    </tr>\n",
       "    <tr>\n",
       "      <th>10/1/2012</th>\n",
       "      <td>244.5700</td>\n",
       "    </tr>\n",
       "    <tr>\n",
       "      <th>7/10/2011</th>\n",
       "      <td>4965.7595</td>\n",
       "    </tr>\n",
       "    <tr>\n",
       "      <th>8/28/2010</th>\n",
       "      <td>394.2700</td>\n",
       "    </tr>\n",
       "  </tbody>\n",
       "</table>\n",
       "</div>"
      ],
      "text/plain": [
       "                 Sales\n",
       "Order Date            \n",
       "10/13/2010    261.5400\n",
       "10/1/2012   10123.0200\n",
       "10/1/2012     244.5700\n",
       "7/10/2011    4965.7595\n",
       "8/28/2010     394.2700"
      ]
     },
     "execution_count": 165,
     "metadata": {},
     "output_type": "execute_result"
    }
   ],
   "source": [
    "purchase_patterns = purchase_patterns.set_index('Order Date')\n",
    "purchase_patterns.head()"
   ]
  },
  {
   "cell_type": "code",
   "execution_count": null,
   "metadata": {
    "collapsed": true
   },
   "outputs": [],
   "source": []
  }
 ],
 "metadata": {
  "kernelspec": {
   "display_name": "Python 2",
   "language": "python",
   "name": "python2"
  },
  "language_info": {
   "codemirror_mode": {
    "name": "ipython",
    "version": 2
   },
   "file_extension": ".py",
   "mimetype": "text/x-python",
   "name": "python",
   "nbconvert_exporter": "python",
   "pygments_lexer": "ipython2",
   "version": "2.7.12"
  }
 },
 "nbformat": 4,
 "nbformat_minor": 2
}
